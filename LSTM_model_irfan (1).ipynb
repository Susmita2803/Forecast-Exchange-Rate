{
 "cells": [
  {
   "cell_type": "markdown",
   "metadata": {
    "id": "IkwHXkyji9-Y"
   },
   "source": [
    "# LSTM model "
   ]
  },
  {
   "cell_type": "code",
   "execution_count": 1,
   "metadata": {
    "id": "S5rhP1dii9-b"
   },
   "outputs": [],
   "source": [
    "import pandas as pd"
   ]
  },
  {
   "cell_type": "code",
   "execution_count": 2,
   "metadata": {
    "colab": {
     "base_uri": "https://localhost:8080/",
     "height": 203
    },
    "id": "LTWqC3fai9-d",
    "outputId": "a340339e-3f73-4294-d51f-3d6e4baf6c4f"
   },
   "outputs": [
    {
     "data": {
      "text/html": [
       "<div>\n",
       "<style scoped>\n",
       "    .dataframe tbody tr th:only-of-type {\n",
       "        vertical-align: middle;\n",
       "    }\n",
       "\n",
       "    .dataframe tbody tr th {\n",
       "        vertical-align: top;\n",
       "    }\n",
       "\n",
       "    .dataframe thead th {\n",
       "        text-align: right;\n",
       "    }\n",
       "</style>\n",
       "<table border=\"1\" class=\"dataframe\">\n",
       "  <thead>\n",
       "    <tr style=\"text-align: right;\">\n",
       "      <th></th>\n",
       "      <th>observation_date</th>\n",
       "      <th>DEXINUS</th>\n",
       "    </tr>\n",
       "  </thead>\n",
       "  <tbody>\n",
       "    <tr>\n",
       "      <th>0</th>\n",
       "      <td>1973-01-02</td>\n",
       "      <td>8.02</td>\n",
       "    </tr>\n",
       "    <tr>\n",
       "      <th>1</th>\n",
       "      <td>1973-01-03</td>\n",
       "      <td>8.02</td>\n",
       "    </tr>\n",
       "    <tr>\n",
       "      <th>2</th>\n",
       "      <td>1973-01-04</td>\n",
       "      <td>8.00</td>\n",
       "    </tr>\n",
       "    <tr>\n",
       "      <th>3</th>\n",
       "      <td>1973-01-05</td>\n",
       "      <td>8.01</td>\n",
       "    </tr>\n",
       "    <tr>\n",
       "      <th>4</th>\n",
       "      <td>1973-01-08</td>\n",
       "      <td>8.00</td>\n",
       "    </tr>\n",
       "  </tbody>\n",
       "</table>\n",
       "</div>"
      ],
      "text/plain": [
       "  observation_date  DEXINUS\n",
       "0       1973-01-02     8.02\n",
       "1       1973-01-03     8.02\n",
       "2       1973-01-04     8.00\n",
       "3       1973-01-05     8.01\n",
       "4       1973-01-08     8.00"
      ]
     },
     "execution_count": 2,
     "metadata": {},
     "output_type": "execute_result"
    }
   ],
   "source": [
    "ex_rate = pd.read_excel(\"C:/Users/Irfan Shaik/Documents/ExcelR Project/DEXINUS (1).xls\")\n",
    "ex_rate.head()"
   ]
  },
  {
   "cell_type": "code",
   "execution_count": 3,
   "metadata": {
    "colab": {
     "base_uri": "https://localhost:8080/",
     "height": 203
    },
    "id": "8f-rbIdpi9-g",
    "outputId": "ab2fefec-f93c-4cdb-f730-531185b2c502"
   },
   "outputs": [
    {
     "data": {
      "text/html": [
       "<div>\n",
       "<style scoped>\n",
       "    .dataframe tbody tr th:only-of-type {\n",
       "        vertical-align: middle;\n",
       "    }\n",
       "\n",
       "    .dataframe tbody tr th {\n",
       "        vertical-align: top;\n",
       "    }\n",
       "\n",
       "    .dataframe thead th {\n",
       "        text-align: right;\n",
       "    }\n",
       "</style>\n",
       "<table border=\"1\" class=\"dataframe\">\n",
       "  <thead>\n",
       "    <tr style=\"text-align: right;\">\n",
       "      <th></th>\n",
       "      <th>Date</th>\n",
       "      <th>Dexinus</th>\n",
       "    </tr>\n",
       "  </thead>\n",
       "  <tbody>\n",
       "    <tr>\n",
       "      <th>0</th>\n",
       "      <td>1973-01-02</td>\n",
       "      <td>8.02</td>\n",
       "    </tr>\n",
       "    <tr>\n",
       "      <th>1</th>\n",
       "      <td>1973-01-03</td>\n",
       "      <td>8.02</td>\n",
       "    </tr>\n",
       "    <tr>\n",
       "      <th>2</th>\n",
       "      <td>1973-01-04</td>\n",
       "      <td>8.00</td>\n",
       "    </tr>\n",
       "    <tr>\n",
       "      <th>3</th>\n",
       "      <td>1973-01-05</td>\n",
       "      <td>8.01</td>\n",
       "    </tr>\n",
       "    <tr>\n",
       "      <th>4</th>\n",
       "      <td>1973-01-08</td>\n",
       "      <td>8.00</td>\n",
       "    </tr>\n",
       "  </tbody>\n",
       "</table>\n",
       "</div>"
      ],
      "text/plain": [
       "        Date  Dexinus\n",
       "0 1973-01-02     8.02\n",
       "1 1973-01-03     8.02\n",
       "2 1973-01-04     8.00\n",
       "3 1973-01-05     8.01\n",
       "4 1973-01-08     8.00"
      ]
     },
     "execution_count": 3,
     "metadata": {},
     "output_type": "execute_result"
    }
   ],
   "source": [
    "ex_rate.columns = ['Date','Dexinus']\n",
    "ex_rate.head()"
   ]
  },
  {
   "cell_type": "code",
   "execution_count": 4,
   "metadata": {
    "colab": {
     "base_uri": "https://localhost:8080/",
     "height": 203
    },
    "id": "xT5lIlRBi9-h",
    "outputId": "d9652088-a47a-40fe-c112-99850797a5ac"
   },
   "outputs": [
    {
     "data": {
      "text/html": [
       "<div>\n",
       "<style scoped>\n",
       "    .dataframe tbody tr th:only-of-type {\n",
       "        vertical-align: middle;\n",
       "    }\n",
       "\n",
       "    .dataframe tbody tr th {\n",
       "        vertical-align: top;\n",
       "    }\n",
       "\n",
       "    .dataframe thead th {\n",
       "        text-align: right;\n",
       "    }\n",
       "</style>\n",
       "<table border=\"1\" class=\"dataframe\">\n",
       "  <thead>\n",
       "    <tr style=\"text-align: right;\">\n",
       "      <th></th>\n",
       "      <th>Date</th>\n",
       "      <th>Dexinus</th>\n",
       "    </tr>\n",
       "  </thead>\n",
       "  <tbody>\n",
       "    <tr>\n",
       "      <th>0</th>\n",
       "      <td>1973-01-02</td>\n",
       "      <td>8.02</td>\n",
       "    </tr>\n",
       "    <tr>\n",
       "      <th>1</th>\n",
       "      <td>1973-01-03</td>\n",
       "      <td>8.02</td>\n",
       "    </tr>\n",
       "    <tr>\n",
       "      <th>2</th>\n",
       "      <td>1973-01-04</td>\n",
       "      <td>8.00</td>\n",
       "    </tr>\n",
       "    <tr>\n",
       "      <th>3</th>\n",
       "      <td>1973-01-05</td>\n",
       "      <td>8.01</td>\n",
       "    </tr>\n",
       "    <tr>\n",
       "      <th>4</th>\n",
       "      <td>1973-01-08</td>\n",
       "      <td>8.00</td>\n",
       "    </tr>\n",
       "  </tbody>\n",
       "</table>\n",
       "</div>"
      ],
      "text/plain": [
       "        Date  Dexinus\n",
       "0 1973-01-02     8.02\n",
       "1 1973-01-03     8.02\n",
       "2 1973-01-04     8.00\n",
       "3 1973-01-05     8.01\n",
       "4 1973-01-08     8.00"
      ]
     },
     "execution_count": 4,
     "metadata": {},
     "output_type": "execute_result"
    }
   ],
   "source": [
    "ex_rate = ex_rate.interpolate(method ='linear')\n",
    "ex_rate.head()"
   ]
  },
  {
   "cell_type": "code",
   "execution_count": 5,
   "metadata": {
    "colab": {
     "base_uri": "https://localhost:8080/",
     "height": 0
    },
    "id": "wtny0tlPi9-i",
    "outputId": "bc434606-60f0-46ce-b7c6-3841b3d68241"
   },
   "outputs": [
    {
     "data": {
      "text/plain": [
       "Date       0\n",
       "Dexinus    0\n",
       "dtype: int64"
      ]
     },
     "execution_count": 5,
     "metadata": {},
     "output_type": "execute_result"
    }
   ],
   "source": [
    "ex_rate.isnull().sum()"
   ]
  },
  {
   "cell_type": "code",
   "execution_count": 6,
   "metadata": {
    "colab": {
     "base_uri": "https://localhost:8080/",
     "height": 285
    },
    "id": "3rceeGD4i9-k",
    "outputId": "07288c7d-385f-42d8-e542-e485e9db7f66"
   },
   "outputs": [
    {
     "data": {
      "text/plain": [
       "[<matplotlib.lines.Line2D at 0x29e67d7a280>]"
      ]
     },
     "execution_count": 6,
     "metadata": {},
     "output_type": "execute_result"
    },
    {
     "data": {
      "image/png": "[encoded data removed]",
      "text/plain": [
       "<Figure size 432x288 with 1 Axes>"
      ]
     },
     "metadata": {
      "needs_background": "light"
     },
     "output_type": "display_data"
    }
   ],
   "source": [
    "import matplotlib.pyplot as plt\n",
    "plt.plot(ex_rate.Dexinus)"
   ]
  },
  {
   "cell_type": "code",
   "execution_count": 7,
   "metadata": {
    "colab": {
     "base_uri": "https://localhost:8080/",
     "height": 0
    },
    "id": "WODXHfcri9-m",
    "outputId": "ad00f8ec-bfc7-4160-819e-10f6a7826202"
   },
   "outputs": [
    {
     "data": {
      "text/plain": [
       "array([[0.01189794],\n",
       "       [0.01189794],\n",
       "       [0.01161124],\n",
       "       ...,\n",
       "       [0.95957569],\n",
       "       [0.95971904],\n",
       "       [0.95971904]])"
      ]
     },
     "execution_count": 7,
     "metadata": {},
     "output_type": "execute_result"
    }
   ],
   "source": [
    "### LSTM are sensitive to the scale of the data. so we can apply MinMax scaler\n",
    "import numpy as np\n",
    "from sklearn.preprocessing import MinMaxScaler\n",
    "scaler = MinMaxScaler(feature_range=(0,1))\n",
    "rate = scaler.fit_transform(np.array(ex_rate.Dexinus).reshape(-1,1))\n",
    "rate"
   ]
  },
  {
   "cell_type": "code",
   "execution_count": 8,
   "metadata": {
    "colab": {
     "base_uri": "https://localhost:8080/",
     "height": 0
    },
    "id": "xi5tcDZRi9-n",
    "outputId": "96c04945-28a5-4e5e-e6f6-0a3f5de48ee6"
   },
   "outputs": [
    {
     "data": {
      "text/plain": [
       "(12649, 1)"
      ]
     },
     "execution_count": 8,
     "metadata": {},
     "output_type": "execute_result"
    }
   ],
   "source": [
    "rate.shape"
   ]
  },
  {
   "cell_type": "code",
   "execution_count": 9,
   "metadata": {
    "id": "EvxLJOCJi9-q"
   },
   "outputs": [],
   "source": [
    "### splitting the data into train and test\n",
    "training_size = int(len(rate)*0.90)\n",
    "test_size = len(rate)-training_size\n",
    "train_data,test_data = rate[0:training_size,:],rate[training_size:len(rate),:1]"
   ]
  },
  {
   "cell_type": "code",
   "execution_count": 10,
   "metadata": {
    "colab": {
     "base_uri": "https://localhost:8080/",
     "height": 0
    },
    "id": "Cm4YZC_li9-q",
    "outputId": "1b9079c1-b9d5-4b1f-9af4-c2af85d1500f"
   },
   "outputs": [
    {
     "data": {
      "text/plain": [
       "(11384, 1265)"
      ]
     },
     "execution_count": 10,
     "metadata": {},
     "output_type": "execute_result"
    }
   ],
   "source": [
    "len(train_data), len(test_data)"
   ]
  },
  {
   "cell_type": "code",
   "execution_count": 11,
   "metadata": {
    "id": "TEIQ2fTri9-r"
   },
   "outputs": [],
   "source": [
    "import numpy\n",
    "# converting an array of values into a dataset matrix\n",
    "def  create_dataset(dataset, time_step=1):\n",
    "    dataX, dataY = [], []\n",
    "    for i in range(len(dataset)-time_step-1):\n",
    "        a= dataset[i:(i+time_step), 0]\n",
    "        dataX.append(a)\n",
    "        dataY.append(dataset[i + time_step, 0])\n",
    "    return np.array(dataX),np.array(dataY)"
   ]
  },
  {
   "cell_type": "code",
   "execution_count": 12,
   "metadata": {
    "id": "E2TRcoWhi9-s"
   },
   "outputs": [],
   "source": [
    "time_step = 100\n",
    "X_train, Y_train = create_dataset(train_data, time_step)\n",
    "X_test, Y_test = create_dataset(test_data, time_step)"
   ]
  },
  {
   "cell_type": "code",
   "execution_count": 13,
   "metadata": {
    "colab": {
     "base_uri": "https://localhost:8080/",
     "height": 0
    },
    "id": "S3rzY1Doi9-t",
    "outputId": "656f0f05-b2be-4c3a-d1a8-5baaa3f43b65"
   },
   "outputs": [
    {
     "name": "stdout",
     "output_type": "stream",
     "text": [
      "(11283, 100)\n",
      "(11283,)\n"
     ]
    },
    {
     "data": {
      "text/plain": [
       "(None, None)"
      ]
     },
     "execution_count": 13,
     "metadata": {},
     "output_type": "execute_result"
    }
   ],
   "source": [
    "print(X_train.shape),print(Y_train.shape)"
   ]
  },
  {
   "cell_type": "code",
   "execution_count": 14,
   "metadata": {
    "colab": {
     "base_uri": "https://localhost:8080/",
     "height": 0
    },
    "id": "g-CxuGvC1zmK",
    "outputId": "6c03fc54-eade-4178-b5c5-7ea5fb1253fc"
   },
   "outputs": [
    {
     "data": {
      "text/plain": [
       "((11283, 100), (11283,))"
      ]
     },
     "execution_count": 14,
     "metadata": {},
     "output_type": "execute_result"
    }
   ],
   "source": [
    "X_train.shape,Y_train.shape"
   ]
  },
  {
   "cell_type": "code",
   "execution_count": 15,
   "metadata": {
    "colab": {
     "base_uri": "https://localhost:8080/",
     "height": 0
    },
    "id": "CyMkF3IPi9-u",
    "outputId": "8720f06b-5bc1-4167-cdf6-6345aaec5a24"
   },
   "outputs": [
    {
     "name": "stdout",
     "output_type": "stream",
     "text": [
      "(1164, 100)\n",
      "(1164,)\n"
     ]
    },
    {
     "data": {
      "text/plain": [
       "(None, None)"
      ]
     },
     "execution_count": 15,
     "metadata": {},
     "output_type": "execute_result"
    }
   ],
   "source": [
    "print(X_test.shape), print(Y_test.shape)"
   ]
  },
  {
   "cell_type": "code",
   "execution_count": 16,
   "metadata": {
    "colab": {
     "base_uri": "https://localhost:8080/",
     "height": 0
    },
    "id": "4IZ1kE6f1qTj",
    "outputId": "e5c27003-a908-46f3-adce-da557ea21367"
   },
   "outputs": [
    {
     "data": {
      "text/plain": [
       "array([[0.85994839, 0.85865826, 0.859375  , ..., 0.8702695 , 0.86797592,\n",
       "        0.87342317],\n",
       "       [0.85865826, 0.859375  , 0.85751147, ..., 0.86797592, 0.87342317,\n",
       "        0.87284977],\n",
       "       [0.859375  , 0.85751147, 0.85708142, ..., 0.87342317, 0.87284977,\n",
       "        0.8752867 ],\n",
       "       ...,\n",
       "       [0.94266055, 0.94108372, 0.94237385, ..., 0.96000573, 0.95971904,\n",
       "        0.96029243],\n",
       "       [0.94108372, 0.94237385, 0.94122706, ..., 0.95971904, 0.96029243,\n",
       "        0.96301606],\n",
       "       [0.94237385, 0.94122706, 0.94194381, ..., 0.96029243, 0.96301606,\n",
       "        0.95957569]])"
      ]
     },
     "execution_count": 16,
     "metadata": {},
     "output_type": "execute_result"
    }
   ],
   "source": [
    "X_test"
   ]
  },
  {
   "cell_type": "code",
   "execution_count": 17,
   "metadata": {
    "id": "qhBLELCKi9-v"
   },
   "outputs": [],
   "source": [
    "### Reshape input to be [Samples, time steps, features] which is required for LSTM\n",
    "X_train = X_train.reshape(X_train.shape[0], X_train.shape[1], 1)\n",
    "X_test = X_test.reshape(X_test.shape[0], X_test.shape[1], 1)"
   ]
  },
  {
   "cell_type": "code",
   "execution_count": 18,
   "metadata": {
    "id": "h7Sivu43i9-v"
   },
   "outputs": [],
   "source": [
    "### create the LSTM model\n",
    "from tensorflow.keras.models import Sequential\n",
    "from tensorflow.keras.layers import Dense\n",
    "from tensorflow.keras.layers import LSTM"
   ]
  },
  {
   "cell_type": "code",
   "execution_count": 19,
   "metadata": {
    "id": "5VS3M7WRi9-v"
   },
   "outputs": [],
   "source": [
    "model = Sequential()\n",
    "model.add(LSTM(150,return_sequences=True,input_shape=(100,1)))\n",
    "model.add(LSTM(150,return_sequences=True))\n",
    "model.add(LSTM(150))\n",
    "model.add(Dense(1))\n",
    "model.compile(loss='mean_squared_error',optimizer='adam')"
   ]
  },
  {
   "cell_type": "code",
   "execution_count": 20,
   "metadata": {
    "colab": {
     "base_uri": "https://localhost:8080/",
     "height": 0
    },
    "id": "sK8ep1W1i9-w",
    "outputId": "f5a36dbd-83d2-43dc-c0ce-d493a987dbd0"
   },
   "outputs": [
    {
     "name": "stdout",
     "output_type": "stream",
     "text": [
      "Model: \"sequential\"\n",
      "_________________________________________________________________\n",
      "Layer (type)                 Output Shape              Param #   \n",
      "=================================================================\n",
      "lstm (LSTM)                  (None, 100, 150)          91200     \n",
      "_________________________________________________________________\n",
      "lstm_1 (LSTM)                (None, 100, 150)          180600    \n",
      "_________________________________________________________________\n",
      "lstm_2 (LSTM)                (None, 150)               180600    \n",
      "_________________________________________________________________\n",
      "dense (Dense)                (None, 1)                 151       \n",
      "=================================================================\n",
      "Total params: 452,551\n",
      "Trainable params: 452,551\n",
      "Non-trainable params: 0\n",
      "_________________________________________________________________\n"
     ]
    }
   ],
   "source": [
    "model.summary()"
   ]
  },
  {
   "cell_type": "code",
   "execution_count": 21,
   "metadata": {
    "colab": {
     "base_uri": "https://localhost:8080/",
     "height": 0
    },
    "id": "pZC5x_r4i9-w",
    "outputId": "dc4358b1-03e5-483f-e12e-d0236ce6b63a"
   },
   "outputs": [
    {
     "name": "stdout",
     "output_type": "stream",
     "text": [
      "Epoch 1/10\n",
      "177/177 [==============================] - 127s 674ms/step - loss: 0.0037 - val_loss: 1.7634e-04\n",
      "Epoch 2/10\n",
      "177/177 [==============================] - 115s 648ms/step - loss: 4.4573e-05 - val_loss: 9.5681e-05\n",
      "Epoch 3/10\n",
      "177/177 [==============================] - 127s 720ms/step - loss: 4.5321e-05 - val_loss: 1.3081e-04\n",
      "Epoch 4/10\n",
      "177/177 [==============================] - 132s 748ms/step - loss: 4.3999e-05 - val_loss: 1.0844e-04\n",
      "Epoch 5/10\n",
      "177/177 [==============================] - 125s 704ms/step - loss: 4.2750e-05 - val_loss: 9.0215e-05\n",
      "Epoch 6/10\n",
      "177/177 [==============================] - 126s 710ms/step - loss: 4.5988e-05 - val_loss: 1.5498e-04\n",
      "Epoch 7/10\n",
      "177/177 [==============================] - 122s 689ms/step - loss: 4.4722e-05 - val_loss: 7.3905e-05\n",
      "Epoch 8/10\n",
      "177/177 [==============================] - 129s 731ms/step - loss: 4.8406e-05 - val_loss: 9.3258e-05\n",
      "Epoch 9/10\n",
      "177/177 [==============================] - 127s 716ms/step - loss: 5.3483e-05 - val_loss: 9.8790e-05\n",
      "Epoch 10/10\n",
      "177/177 [==============================] - 135s 763ms/step - loss: 5.7010e-05 - val_loss: 6.7055e-05\n"
     ]
    },
    {
     "data": {
      "text/plain": [
       "<tensorflow.python.keras.callbacks.History at 0x29e72d089a0>"
      ]
     },
     "execution_count": 21,
     "metadata": {},
     "output_type": "execute_result"
    }
   ],
   "source": [
    "model.fit(X_train,Y_train,validation_data=(X_test,Y_test),epochs = 10,batch_size = 64,verbose=1)"
   ]
  },
  {
   "cell_type": "code",
   "execution_count": 22,
   "metadata": {
    "id": "XlR2bMGdi9-w"
   },
   "outputs": [],
   "source": [
    "### Lets do the prediction and check the performance metrics\n",
    "train_predict = model.predict(X_train)\n",
    "test_predict = model.predict(X_test)"
   ]
  },
  {
   "cell_type": "code",
   "execution_count": 23,
   "metadata": {
    "id": "w-U-qsgwi9-x"
   },
   "outputs": [],
   "source": [
    "### Trnasform back to original form\n",
    "train_predict = scaler.inverse_transform(train_predict)\n",
    "test_predict = scaler.inverse_transform(test_predict)"
   ]
  },
  {
   "cell_type": "code",
   "execution_count": 24,
   "metadata": {
    "colab": {
     "base_uri": "https://localhost:8080/",
     "height": 0
    },
    "id": "S6NSwsPg-0PS",
    "outputId": "cdd97e22-c7b2-45df-cd4d-497d374245c5"
   },
   "outputs": [
    {
     "data": {
      "text/plain": [
       "array([[ 7.4858065],\n",
       "       [ 7.4831357],\n",
       "       [ 7.48155  ],\n",
       "       ...,\n",
       "       [67.01361  ],\n",
       "       [67.00528  ],\n",
       "       [67.004684 ]], dtype=float32)"
      ]
     },
     "execution_count": 24,
     "metadata": {},
     "output_type": "execute_result"
    }
   ],
   "source": [
    "train_predict"
   ]
  },
  {
   "cell_type": "code",
   "execution_count": 25,
   "metadata": {
    "colab": {
     "base_uri": "https://localhost:8080/",
     "height": 0
    },
    "id": "2O0iITHbi9-x",
    "outputId": "069e8e4c-0beb-40d9-d3d6-a67ff3522660"
   },
   "outputs": [
    {
     "data": {
      "text/plain": [
       "0.40142196589609164"
      ]
     },
     "execution_count": 25,
     "metadata": {},
     "output_type": "execute_result"
    }
   ],
   "source": [
    "### Calculate RMSE metrics\n",
    "import math\n",
    "from sklearn.metrics import mean_squared_error\n",
    "math.sqrt(mean_squared_error(scaler.inverse_transform(Y_train.reshape(1,-1)).reshape(-1,1),train_predict))"
   ]
  },
  {
   "cell_type": "code",
   "execution_count": 26,
   "metadata": {
    "colab": {
     "base_uri": "https://localhost:8080/",
     "height": 0
    },
    "id": "lGhD1yA4i9-x",
    "outputId": "c88779ee-e090-4e9e-bdc4-a350c6015990"
   },
   "outputs": [
    {
     "data": {
      "text/plain": [
       "0.5712441935553408"
      ]
     },
     "execution_count": 26,
     "metadata": {},
     "output_type": "execute_result"
    }
   ],
   "source": [
    "math.sqrt(mean_squared_error(scaler.inverse_transform(Y_test.reshape(1,-1)).reshape(-1,1),test_predict))"
   ]
  },
  {
   "cell_type": "code",
   "execution_count": 39,
   "metadata": {},
   "outputs": [],
   "source": [
    "def MAPE(org, pred):\n",
    "    temp = np.abs((org - pred)/org)*100\n",
    "    return np.mean(temp)"
   ]
  },
  {
   "cell_type": "code",
   "execution_count": 40,
   "metadata": {},
   "outputs": [
    {
     "data": {
      "text/plain": [
       "0.6251984799551656"
      ]
     },
     "execution_count": 40,
     "metadata": {},
     "output_type": "execute_result"
    }
   ],
   "source": [
    "MAPE(scaler.inverse_transform(Y_test.reshape(1,-1)).reshape(-1,1),test_predict)"
   ]
  },
  {
   "cell_type": "code",
   "execution_count": 27,
   "metadata": {
    "colab": {
     "base_uri": "https://localhost:8080/",
     "height": 322
    },
    "id": "JxBhG9dKi9-y",
    "outputId": "2cb27c82-585c-4551-dbba-de7df7237759"
   },
   "outputs": [
    {
     "data": {
      "image/png": "[encoded data removed]",
      "text/plain": [
       "<Figure size 864x360 with 1 Axes>"
      ]
     },
     "metadata": {
      "needs_background": "light"
     },
     "output_type": "display_data"
    }
   ],
   "source": [
    "### Plotting\n",
    "# shift train predictions for plotting\n",
    "look_back = 100\n",
    "trainPredictPlot = np.empty_like(rate)\n",
    "trainPredictPlot[:, :] = np.nan\n",
    "trainPredictPlot[look_back:len(train_predict)+look_back, :] = train_predict\n",
    "# shift test predictions for plotting\n",
    "testPredictPlot = np.empty_like(rate)\n",
    "testPredictPlot[:, :] = np.nan\n",
    "testPredictPlot[len(train_predict)+(look_back*2)+1:len(rate)-1, :] = test_predict\n",
    "# Plot baseline and predictions\n",
    "plt.figure(figsize=(12,5))\n",
    "plt.plot(scaler.inverse_transform(rate))\n",
    "plt.plot(trainPredictPlot)\n",
    "plt.plot(testPredictPlot)\n",
    "plt.show()"
   ]
  },
  {
   "cell_type": "code",
   "execution_count": 28,
   "metadata": {
    "colab": {
     "base_uri": "https://localhost:8080/",
     "height": 0
    },
    "id": "w474NK0oi9-y",
    "outputId": "9c010cf2-e248-4df9-e0ed-4dca552d20a8"
   },
   "outputs": [
    {
     "data": {
      "text/plain": [
       "1265"
      ]
     },
     "execution_count": 28,
     "metadata": {},
     "output_type": "execute_result"
    }
   ],
   "source": [
    "len(test_data)"
   ]
  },
  {
   "cell_type": "code",
   "execution_count": 29,
   "metadata": {
    "colab": {
     "base_uri": "https://localhost:8080/",
     "height": 0
    },
    "id": "SmK1zD25i9-y",
    "outputId": "4802e40f-2326-4d8b-829a-c3519cdb479e"
   },
   "outputs": [
    {
     "data": {
      "text/plain": [
       "(1, 100)"
      ]
     },
     "execution_count": 29,
     "metadata": {},
     "output_type": "execute_result"
    }
   ],
   "source": [
    "x_input = test_data[1265-100:].reshape(1,-1)\n",
    "x_input.shape"
   ]
  },
  {
   "cell_type": "code",
   "execution_count": 30,
   "metadata": {
    "colab": {
     "base_uri": "https://localhost:8080/",
     "height": 0
    },
    "id": "JvEZ5wcIi9-z",
    "outputId": "246470b1-d534-4680-aa92-c0a8334bb71a"
   },
   "outputs": [
    {
     "data": {
      "text/plain": [
       "[0.9419438073394496,\n",
       " 0.9409403669724771,\n",
       " 0.9407970183486237,\n",
       " 0.938933486238532,\n",
       " 0.937643348623853,\n",
       " 0.9395068807339447,\n",
       " 0.9413704128440367,\n",
       " 0.9406536697247706,\n",
       " 0.9383600917431193,\n",
       " 0.9362098623853211]"
      ]
     },
     "execution_count": 30,
     "metadata": {},
     "output_type": "execute_result"
    }
   ],
   "source": [
    "temp_input = list(x_input)\n",
    "temp_input = temp_input[0].tolist()\n",
    "temp_input[:10]"
   ]
  },
  {
   "cell_type": "code",
   "execution_count": 31,
   "metadata": {
    "colab": {
     "base_uri": "https://localhost:8080/",
     "height": 0
    },
    "id": "5ZeZovRdi9-z",
    "outputId": "9f586037-b9f0-4c62-dbd2-78b7a5a36a6b"
   },
   "outputs": [
    {
     "name": "stdout",
     "output_type": "stream",
     "text": [
      "[0.95567125]\n",
      "101\n",
      "1 day input [0.94094037 0.94079702 0.93893349 0.93764335 0.93950688 0.94137041\n",
      " 0.94065367 0.93836009 0.93620986 0.93592317 0.93534977 0.93448968\n",
      " 0.93965023 0.95656537 0.94911124 0.9475344  0.94122706 0.93950688\n",
      " 0.94638761 0.94796445 0.94180046 0.94137041 0.93893349 0.93922018\n",
      " 0.93735665 0.93649656 0.93706995 0.93807339 0.93549312 0.93434633\n",
      " 0.93649656 0.9375     0.93893349 0.93836009 0.93979358 0.94982798\n",
      " 0.94538417 0.94796445 0.94868119 0.9475344  0.95040138 0.96272936\n",
      " 0.96588303 0.96803326 0.97247706 0.97591743 0.97305046 0.96932339\n",
      " 0.96459289 0.97018349 0.97749427 0.97806766 0.97362385 0.97161697\n",
      " 0.9684633  0.96602638 0.96473624 0.9587156  0.95771216 0.95513188\n",
      " 0.95484518 0.95498853 0.95255161 0.94724771 0.94925459 0.94896789\n",
      " 0.95097477 0.95025803 0.94667431 0.94767775 0.94395069 0.94624427\n",
      " 0.94380734 0.94079702 0.94137041 0.94022362 0.93922018 0.9375\n",
      " 0.93506307 0.93800172 0.94094037 0.94294725 0.94352064 0.94151376\n",
      " 0.94051032 0.94237385 0.9430906  0.94481078 0.94681766 0.94567087\n",
      " 0.9483945  0.9478211  0.96000573 0.95971904 0.96029243 0.96301606\n",
      " 0.95957569 0.95971904 0.95971904 0.95567125]\n",
      "1 day output [[0.9570326]]\n",
      "2 day input [0.94079702 0.93893349 0.93764335 0.93950688 0.94137041 0.94065367\n",
      " 0.93836009 0.93620986 0.93592317 0.93534977 0.93448968 0.93965023\n",
      " 0.95656537 0.94911124 0.9475344  0.94122706 0.93950688 0.94638761\n",
      " 0.94796445 0.94180046 0.94137041 0.93893349 0.93922018 0.93735665\n",
      " 0.93649656 0.93706995 0.93807339 0.93549312 0.93434633 0.93649656\n",
      " 0.9375     0.93893349 0.93836009 0.93979358 0.94982798 0.94538417\n",
      " 0.94796445 0.94868119 0.9475344  0.95040138 0.96272936 0.96588303\n",
      " 0.96803326 0.97247706 0.97591743 0.97305046 0.96932339 0.96459289\n",
      " 0.97018349 0.97749427 0.97806766 0.97362385 0.97161697 0.9684633\n",
      " 0.96602638 0.96473624 0.9587156  0.95771216 0.95513188 0.95484518\n",
      " 0.95498853 0.95255161 0.94724771 0.94925459 0.94896789 0.95097477\n",
      " 0.95025803 0.94667431 0.94767775 0.94395069 0.94624427 0.94380734\n",
      " 0.94079702 0.94137041 0.94022362 0.93922018 0.9375     0.93506307\n",
      " 0.93800172 0.94094037 0.94294725 0.94352064 0.94151376 0.94051032\n",
      " 0.94237385 0.9430906  0.94481078 0.94681766 0.94567087 0.9483945\n",
      " 0.9478211  0.96000573 0.95971904 0.96029243 0.96301606 0.95957569\n",
      " 0.95971904 0.95971904 0.95567125 0.95703262]\n",
      "2 day output [[0.9580852]]\n",
      "3 day input [0.93893349 0.93764335 0.93950688 0.94137041 0.94065367 0.93836009\n",
      " 0.93620986 0.93592317 0.93534977 0.93448968 0.93965023 0.95656537\n",
      " 0.94911124 0.9475344  0.94122706 0.93950688 0.94638761 0.94796445\n",
      " 0.94180046 0.94137041 0.93893349 0.93922018 0.93735665 0.93649656\n",
      " 0.93706995 0.93807339 0.93549312 0.93434633 0.93649656 0.9375\n",
      " 0.93893349 0.93836009 0.93979358 0.94982798 0.94538417 0.94796445\n",
      " 0.94868119 0.9475344  0.95040138 0.96272936 0.96588303 0.96803326\n",
      " 0.97247706 0.97591743 0.97305046 0.96932339 0.96459289 0.97018349\n",
      " 0.97749427 0.97806766 0.97362385 0.97161697 0.9684633  0.96602638\n",
      " 0.96473624 0.9587156  0.95771216 0.95513188 0.95484518 0.95498853\n",
      " 0.95255161 0.94724771 0.94925459 0.94896789 0.95097477 0.95025803\n",
      " 0.94667431 0.94767775 0.94395069 0.94624427 0.94380734 0.94079702\n",
      " 0.94137041 0.94022362 0.93922018 0.9375     0.93506307 0.93800172\n",
      " 0.94094037 0.94294725 0.94352064 0.94151376 0.94051032 0.94237385\n",
      " 0.9430906  0.94481078 0.94681766 0.94567087 0.9483945  0.9478211\n",
      " 0.96000573 0.95971904 0.96029243 0.96301606 0.95957569 0.95971904\n",
      " 0.95971904 0.95567125 0.95703262 0.95808518]\n",
      "3 day output [[0.9588645]]\n",
      "4 day input [0.93764335 0.93950688 0.94137041 0.94065367 0.93836009 0.93620986\n",
      " 0.93592317 0.93534977 0.93448968 0.93965023 0.95656537 0.94911124\n",
      " 0.9475344  0.94122706 0.93950688 0.94638761 0.94796445 0.94180046\n",
      " 0.94137041 0.93893349 0.93922018 0.93735665 0.93649656 0.93706995\n",
      " 0.93807339 0.93549312 0.93434633 0.93649656 0.9375     0.93893349\n",
      " 0.93836009 0.93979358 0.94982798 0.94538417 0.94796445 0.94868119\n",
      " 0.9475344  0.95040138 0.96272936 0.96588303 0.96803326 0.97247706\n",
      " 0.97591743 0.97305046 0.96932339 0.96459289 0.97018349 0.97749427\n",
      " 0.97806766 0.97362385 0.97161697 0.9684633  0.96602638 0.96473624\n",
      " 0.9587156  0.95771216 0.95513188 0.95484518 0.95498853 0.95255161\n",
      " 0.94724771 0.94925459 0.94896789 0.95097477 0.95025803 0.94667431\n",
      " 0.94767775 0.94395069 0.94624427 0.94380734 0.94079702 0.94137041\n",
      " 0.94022362 0.93922018 0.9375     0.93506307 0.93800172 0.94094037\n",
      " 0.94294725 0.94352064 0.94151376 0.94051032 0.94237385 0.9430906\n",
      " 0.94481078 0.94681766 0.94567087 0.9483945  0.9478211  0.96000573\n",
      " 0.95971904 0.96029243 0.96301606 0.95957569 0.95971904 0.95971904\n",
      " 0.95567125 0.95703262 0.95808518 0.95886451]\n",
      "4 day output [[0.9594282]]\n",
      "5 day input [0.93950688 0.94137041 0.94065367 0.93836009 0.93620986 0.93592317\n",
      " 0.93534977 0.93448968 0.93965023 0.95656537 0.94911124 0.9475344\n",
      " 0.94122706 0.93950688 0.94638761 0.94796445 0.94180046 0.94137041\n",
      " 0.93893349 0.93922018 0.93735665 0.93649656 0.93706995 0.93807339\n",
      " 0.93549312 0.93434633 0.93649656 0.9375     0.93893349 0.93836009\n",
      " 0.93979358 0.94982798 0.94538417 0.94796445 0.94868119 0.9475344\n",
      " 0.95040138 0.96272936 0.96588303 0.96803326 0.97247706 0.97591743\n",
      " 0.97305046 0.96932339 0.96459289 0.97018349 0.97749427 0.97806766\n",
      " 0.97362385 0.97161697 0.9684633  0.96602638 0.96473624 0.9587156\n",
      " 0.95771216 0.95513188 0.95484518 0.95498853 0.95255161 0.94724771\n",
      " 0.94925459 0.94896789 0.95097477 0.95025803 0.94667431 0.94767775\n",
      " 0.94395069 0.94624427 0.94380734 0.94079702 0.94137041 0.94022362\n",
      " 0.93922018 0.9375     0.93506307 0.93800172 0.94094037 0.94294725\n",
      " 0.94352064 0.94151376 0.94051032 0.94237385 0.9430906  0.94481078\n",
      " 0.94681766 0.94567087 0.9483945  0.9478211  0.96000573 0.95971904\n",
      " 0.96029243 0.96301606 0.95957569 0.95971904 0.95971904 0.95567125\n",
      " 0.95703262 0.95808518 0.95886451 0.95942819]\n",
      "5 day output [[0.9598365]]\n",
      "6 day input [0.94137041 0.94065367 0.93836009 0.93620986 0.93592317 0.93534977\n",
      " 0.93448968 0.93965023 0.95656537 0.94911124 0.9475344  0.94122706\n",
      " 0.93950688 0.94638761 0.94796445 0.94180046 0.94137041 0.93893349\n",
      " 0.93922018 0.93735665 0.93649656 0.93706995 0.93807339 0.93549312\n",
      " 0.93434633 0.93649656 0.9375     0.93893349 0.93836009 0.93979358\n",
      " 0.94982798 0.94538417 0.94796445 0.94868119 0.9475344  0.95040138\n",
      " 0.96272936 0.96588303 0.96803326 0.97247706 0.97591743 0.97305046\n",
      " 0.96932339 0.96459289 0.97018349 0.97749427 0.97806766 0.97362385\n",
      " 0.97161697 0.9684633  0.96602638 0.96473624 0.9587156  0.95771216\n",
      " 0.95513188 0.95484518 0.95498853 0.95255161 0.94724771 0.94925459\n",
      " 0.94896789 0.95097477 0.95025803 0.94667431 0.94767775 0.94395069\n",
      " 0.94624427 0.94380734 0.94079702 0.94137041 0.94022362 0.93922018\n",
      " 0.9375     0.93506307 0.93800172 0.94094037 0.94294725 0.94352064\n",
      " 0.94151376 0.94051032 0.94237385 0.9430906  0.94481078 0.94681766\n",
      " 0.94567087 0.9483945  0.9478211  0.96000573 0.95971904 0.96029243\n",
      " 0.96301606 0.95957569 0.95971904 0.95971904 0.95567125 0.95703262\n",
      " 0.95808518 0.95886451 0.95942819 0.95983648]\n",
      "6 day output [[0.96014017]]\n",
      "7 day input [0.94065367 0.93836009 0.93620986 0.93592317 0.93534977 0.93448968\n",
      " 0.93965023 0.95656537 0.94911124 0.9475344  0.94122706 0.93950688\n",
      " 0.94638761 0.94796445 0.94180046 0.94137041 0.93893349 0.93922018\n",
      " 0.93735665 0.93649656 0.93706995 0.93807339 0.93549312 0.93434633\n",
      " 0.93649656 0.9375     0.93893349 0.93836009 0.93979358 0.94982798\n",
      " 0.94538417 0.94796445 0.94868119 0.9475344  0.95040138 0.96272936\n",
      " 0.96588303 0.96803326 0.97247706 0.97591743 0.97305046 0.96932339\n",
      " 0.96459289 0.97018349 0.97749427 0.97806766 0.97362385 0.97161697\n",
      " 0.9684633  0.96602638 0.96473624 0.9587156  0.95771216 0.95513188\n",
      " 0.95484518 0.95498853 0.95255161 0.94724771 0.94925459 0.94896789\n",
      " 0.95097477 0.95025803 0.94667431 0.94767775 0.94395069 0.94624427\n",
      " 0.94380734 0.94079702 0.94137041 0.94022362 0.93922018 0.9375\n",
      " 0.93506307 0.93800172 0.94094037 0.94294725 0.94352064 0.94151376\n",
      " 0.94051032 0.94237385 0.9430906  0.94481078 0.94681766 0.94567087\n",
      " 0.9483945  0.9478211  0.96000573 0.95971904 0.96029243 0.96301606\n",
      " 0.95957569 0.95971904 0.95971904 0.95567125 0.95703262 0.95808518\n",
      " 0.95886451 0.95942819 0.95983648 0.96014017]\n",
      "7 day output [[0.96037877]]\n",
      "8 day input [0.93836009 0.93620986 0.93592317 0.93534977 0.93448968 0.93965023\n",
      " 0.95656537 0.94911124 0.9475344  0.94122706 0.93950688 0.94638761\n",
      " 0.94796445 0.94180046 0.94137041 0.93893349 0.93922018 0.93735665\n",
      " 0.93649656 0.93706995 0.93807339 0.93549312 0.93434633 0.93649656\n",
      " 0.9375     0.93893349 0.93836009 0.93979358 0.94982798 0.94538417\n",
      " 0.94796445 0.94868119 0.9475344  0.95040138 0.96272936 0.96588303\n",
      " 0.96803326 0.97247706 0.97591743 0.97305046 0.96932339 0.96459289\n",
      " 0.97018349 0.97749427 0.97806766 0.97362385 0.97161697 0.9684633\n",
      " 0.96602638 0.96473624 0.9587156  0.95771216 0.95513188 0.95484518\n",
      " 0.95498853 0.95255161 0.94724771 0.94925459 0.94896789 0.95097477\n",
      " 0.95025803 0.94667431 0.94767775 0.94395069 0.94624427 0.94380734\n",
      " 0.94079702 0.94137041 0.94022362 0.93922018 0.9375     0.93506307\n",
      " 0.93800172 0.94094037 0.94294725 0.94352064 0.94151376 0.94051032\n",
      " 0.94237385 0.9430906  0.94481078 0.94681766 0.94567087 0.9483945\n",
      " 0.9478211  0.96000573 0.95971904 0.96029243 0.96301606 0.95957569\n",
      " 0.95971904 0.95971904 0.95567125 0.95703262 0.95808518 0.95886451\n",
      " 0.95942819 0.95983648 0.96014017 0.96037877]\n",
      "8 day output [[0.96058]]\n",
      "9 day input [0.93620986 0.93592317 0.93534977 0.93448968 0.93965023 0.95656537\n",
      " 0.94911124 0.9475344  0.94122706 0.93950688 0.94638761 0.94796445\n",
      " 0.94180046 0.94137041 0.93893349 0.93922018 0.93735665 0.93649656\n",
      " 0.93706995 0.93807339 0.93549312 0.93434633 0.93649656 0.9375\n",
      " 0.93893349 0.93836009 0.93979358 0.94982798 0.94538417 0.94796445\n",
      " 0.94868119 0.9475344  0.95040138 0.96272936 0.96588303 0.96803326\n",
      " 0.97247706 0.97591743 0.97305046 0.96932339 0.96459289 0.97018349\n",
      " 0.97749427 0.97806766 0.97362385 0.97161697 0.9684633  0.96602638\n",
      " 0.96473624 0.9587156  0.95771216 0.95513188 0.95484518 0.95498853\n",
      " 0.95255161 0.94724771 0.94925459 0.94896789 0.95097477 0.95025803\n",
      " 0.94667431 0.94767775 0.94395069 0.94624427 0.94380734 0.94079702\n",
      " 0.94137041 0.94022362 0.93922018 0.9375     0.93506307 0.93800172\n",
      " 0.94094037 0.94294725 0.94352064 0.94151376 0.94051032 0.94237385\n",
      " 0.9430906  0.94481078 0.94681766 0.94567087 0.9483945  0.9478211\n",
      " 0.96000573 0.95971904 0.96029243 0.96301606 0.95957569 0.95971904\n",
      " 0.95971904 0.95567125 0.95703262 0.95808518 0.95886451 0.95942819\n",
      " 0.95983648 0.96014017 0.96037877 0.96057999]\n"
     ]
    },
    {
     "name": "stdout",
     "output_type": "stream",
     "text": [
      "9 day output [[0.96076304]]\n",
      "10 day input [0.93592317 0.93534977 0.93448968 0.93965023 0.95656537 0.94911124\n",
      " 0.9475344  0.94122706 0.93950688 0.94638761 0.94796445 0.94180046\n",
      " 0.94137041 0.93893349 0.93922018 0.93735665 0.93649656 0.93706995\n",
      " 0.93807339 0.93549312 0.93434633 0.93649656 0.9375     0.93893349\n",
      " 0.93836009 0.93979358 0.94982798 0.94538417 0.94796445 0.94868119\n",
      " 0.9475344  0.95040138 0.96272936 0.96588303 0.96803326 0.97247706\n",
      " 0.97591743 0.97305046 0.96932339 0.96459289 0.97018349 0.97749427\n",
      " 0.97806766 0.97362385 0.97161697 0.9684633  0.96602638 0.96473624\n",
      " 0.9587156  0.95771216 0.95513188 0.95484518 0.95498853 0.95255161\n",
      " 0.94724771 0.94925459 0.94896789 0.95097477 0.95025803 0.94667431\n",
      " 0.94767775 0.94395069 0.94624427 0.94380734 0.94079702 0.94137041\n",
      " 0.94022362 0.93922018 0.9375     0.93506307 0.93800172 0.94094037\n",
      " 0.94294725 0.94352064 0.94151376 0.94051032 0.94237385 0.9430906\n",
      " 0.94481078 0.94681766 0.94567087 0.9483945  0.9478211  0.96000573\n",
      " 0.95971904 0.96029243 0.96301606 0.95957569 0.95971904 0.95971904\n",
      " 0.95567125 0.95703262 0.95808518 0.95886451 0.95942819 0.95983648\n",
      " 0.96014017 0.96037877 0.96057999 0.96076304]\n",
      "10 day output [[0.96093786]]\n",
      "11 day input [0.93534977 0.93448968 0.93965023 0.95656537 0.94911124 0.9475344\n",
      " 0.94122706 0.93950688 0.94638761 0.94796445 0.94180046 0.94137041\n",
      " 0.93893349 0.93922018 0.93735665 0.93649656 0.93706995 0.93807339\n",
      " 0.93549312 0.93434633 0.93649656 0.9375     0.93893349 0.93836009\n",
      " 0.93979358 0.94982798 0.94538417 0.94796445 0.94868119 0.9475344\n",
      " 0.95040138 0.96272936 0.96588303 0.96803326 0.97247706 0.97591743\n",
      " 0.97305046 0.96932339 0.96459289 0.97018349 0.97749427 0.97806766\n",
      " 0.97362385 0.97161697 0.9684633  0.96602638 0.96473624 0.9587156\n",
      " 0.95771216 0.95513188 0.95484518 0.95498853 0.95255161 0.94724771\n",
      " 0.94925459 0.94896789 0.95097477 0.95025803 0.94667431 0.94767775\n",
      " 0.94395069 0.94624427 0.94380734 0.94079702 0.94137041 0.94022362\n",
      " 0.93922018 0.9375     0.93506307 0.93800172 0.94094037 0.94294725\n",
      " 0.94352064 0.94151376 0.94051032 0.94237385 0.9430906  0.94481078\n",
      " 0.94681766 0.94567087 0.9483945  0.9478211  0.96000573 0.95971904\n",
      " 0.96029243 0.96301606 0.95957569 0.95971904 0.95971904 0.95567125\n",
      " 0.95703262 0.95808518 0.95886451 0.95942819 0.95983648 0.96014017\n",
      " 0.96037877 0.96057999 0.96076304 0.96093786]\n",
      "11 day output [[0.96111095]]\n",
      "12 day input [0.93448968 0.93965023 0.95656537 0.94911124 0.9475344  0.94122706\n",
      " 0.93950688 0.94638761 0.94796445 0.94180046 0.94137041 0.93893349\n",
      " 0.93922018 0.93735665 0.93649656 0.93706995 0.93807339 0.93549312\n",
      " 0.93434633 0.93649656 0.9375     0.93893349 0.93836009 0.93979358\n",
      " 0.94982798 0.94538417 0.94796445 0.94868119 0.9475344  0.95040138\n",
      " 0.96272936 0.96588303 0.96803326 0.97247706 0.97591743 0.97305046\n",
      " 0.96932339 0.96459289 0.97018349 0.97749427 0.97806766 0.97362385\n",
      " 0.97161697 0.9684633  0.96602638 0.96473624 0.9587156  0.95771216\n",
      " 0.95513188 0.95484518 0.95498853 0.95255161 0.94724771 0.94925459\n",
      " 0.94896789 0.95097477 0.95025803 0.94667431 0.94767775 0.94395069\n",
      " 0.94624427 0.94380734 0.94079702 0.94137041 0.94022362 0.93922018\n",
      " 0.9375     0.93506307 0.93800172 0.94094037 0.94294725 0.94352064\n",
      " 0.94151376 0.94051032 0.94237385 0.9430906  0.94481078 0.94681766\n",
      " 0.94567087 0.9483945  0.9478211  0.96000573 0.95971904 0.96029243\n",
      " 0.96301606 0.95957569 0.95971904 0.95971904 0.95567125 0.95703262\n",
      " 0.95808518 0.95886451 0.95942819 0.95983648 0.96014017 0.96037877\n",
      " 0.96057999 0.96076304 0.96093786 0.96111095]\n",
      "12 day output [[0.96128404]]\n",
      "13 day input [0.93965023 0.95656537 0.94911124 0.9475344  0.94122706 0.93950688\n",
      " 0.94638761 0.94796445 0.94180046 0.94137041 0.93893349 0.93922018\n",
      " 0.93735665 0.93649656 0.93706995 0.93807339 0.93549312 0.93434633\n",
      " 0.93649656 0.9375     0.93893349 0.93836009 0.93979358 0.94982798\n",
      " 0.94538417 0.94796445 0.94868119 0.9475344  0.95040138 0.96272936\n",
      " 0.96588303 0.96803326 0.97247706 0.97591743 0.97305046 0.96932339\n",
      " 0.96459289 0.97018349 0.97749427 0.97806766 0.97362385 0.97161697\n",
      " 0.9684633  0.96602638 0.96473624 0.9587156  0.95771216 0.95513188\n",
      " 0.95484518 0.95498853 0.95255161 0.94724771 0.94925459 0.94896789\n",
      " 0.95097477 0.95025803 0.94667431 0.94767775 0.94395069 0.94624427\n",
      " 0.94380734 0.94079702 0.94137041 0.94022362 0.93922018 0.9375\n",
      " 0.93506307 0.93800172 0.94094037 0.94294725 0.94352064 0.94151376\n",
      " 0.94051032 0.94237385 0.9430906  0.94481078 0.94681766 0.94567087\n",
      " 0.9483945  0.9478211  0.96000573 0.95971904 0.96029243 0.96301606\n",
      " 0.95957569 0.95971904 0.95971904 0.95567125 0.95703262 0.95808518\n",
      " 0.95886451 0.95942819 0.95983648 0.96014017 0.96037877 0.96057999\n",
      " 0.96076304 0.96093786 0.96111095 0.96128404]\n",
      "13 day output [[0.9614593]]\n",
      "14 day input [0.95656537 0.94911124 0.9475344  0.94122706 0.93950688 0.94638761\n",
      " 0.94796445 0.94180046 0.94137041 0.93893349 0.93922018 0.93735665\n",
      " 0.93649656 0.93706995 0.93807339 0.93549312 0.93434633 0.93649656\n",
      " 0.9375     0.93893349 0.93836009 0.93979358 0.94982798 0.94538417\n",
      " 0.94796445 0.94868119 0.9475344  0.95040138 0.96272936 0.96588303\n",
      " 0.96803326 0.97247706 0.97591743 0.97305046 0.96932339 0.96459289\n",
      " 0.97018349 0.97749427 0.97806766 0.97362385 0.97161697 0.9684633\n",
      " 0.96602638 0.96473624 0.9587156  0.95771216 0.95513188 0.95484518\n",
      " 0.95498853 0.95255161 0.94724771 0.94925459 0.94896789 0.95097477\n",
      " 0.95025803 0.94667431 0.94767775 0.94395069 0.94624427 0.94380734\n",
      " 0.94079702 0.94137041 0.94022362 0.93922018 0.9375     0.93506307\n",
      " 0.93800172 0.94094037 0.94294725 0.94352064 0.94151376 0.94051032\n",
      " 0.94237385 0.9430906  0.94481078 0.94681766 0.94567087 0.9483945\n",
      " 0.9478211  0.96000573 0.95971904 0.96029243 0.96301606 0.95957569\n",
      " 0.95971904 0.95971904 0.95567125 0.95703262 0.95808518 0.95886451\n",
      " 0.95942819 0.95983648 0.96014017 0.96037877 0.96057999 0.96076304\n",
      " 0.96093786 0.96111095 0.96128404 0.96145928]\n",
      "14 day output [[0.9616359]]\n",
      "15 day input [0.94911124 0.9475344  0.94122706 0.93950688 0.94638761 0.94796445\n",
      " 0.94180046 0.94137041 0.93893349 0.93922018 0.93735665 0.93649656\n",
      " 0.93706995 0.93807339 0.93549312 0.93434633 0.93649656 0.9375\n",
      " 0.93893349 0.93836009 0.93979358 0.94982798 0.94538417 0.94796445\n",
      " 0.94868119 0.9475344  0.95040138 0.96272936 0.96588303 0.96803326\n",
      " 0.97247706 0.97591743 0.97305046 0.96932339 0.96459289 0.97018349\n",
      " 0.97749427 0.97806766 0.97362385 0.97161697 0.9684633  0.96602638\n",
      " 0.96473624 0.9587156  0.95771216 0.95513188 0.95484518 0.95498853\n",
      " 0.95255161 0.94724771 0.94925459 0.94896789 0.95097477 0.95025803\n",
      " 0.94667431 0.94767775 0.94395069 0.94624427 0.94380734 0.94079702\n",
      " 0.94137041 0.94022362 0.93922018 0.9375     0.93506307 0.93800172\n",
      " 0.94094037 0.94294725 0.94352064 0.94151376 0.94051032 0.94237385\n",
      " 0.9430906  0.94481078 0.94681766 0.94567087 0.9483945  0.9478211\n",
      " 0.96000573 0.95971904 0.96029243 0.96301606 0.95957569 0.95971904\n",
      " 0.95971904 0.95567125 0.95703262 0.95808518 0.95886451 0.95942819\n",
      " 0.95983648 0.96014017 0.96037877 0.96057999 0.96076304 0.96093786\n",
      " 0.96111095 0.96128404 0.96145928 0.96163589]\n",
      "15 day output [[0.96181256]]\n",
      "16 day input [0.9475344  0.94122706 0.93950688 0.94638761 0.94796445 0.94180046\n",
      " 0.94137041 0.93893349 0.93922018 0.93735665 0.93649656 0.93706995\n",
      " 0.93807339 0.93549312 0.93434633 0.93649656 0.9375     0.93893349\n",
      " 0.93836009 0.93979358 0.94982798 0.94538417 0.94796445 0.94868119\n",
      " 0.9475344  0.95040138 0.96272936 0.96588303 0.96803326 0.97247706\n",
      " 0.97591743 0.97305046 0.96932339 0.96459289 0.97018349 0.97749427\n",
      " 0.97806766 0.97362385 0.97161697 0.9684633  0.96602638 0.96473624\n",
      " 0.9587156  0.95771216 0.95513188 0.95484518 0.95498853 0.95255161\n",
      " 0.94724771 0.94925459 0.94896789 0.95097477 0.95025803 0.94667431\n",
      " 0.94767775 0.94395069 0.94624427 0.94380734 0.94079702 0.94137041\n",
      " 0.94022362 0.93922018 0.9375     0.93506307 0.93800172 0.94094037\n",
      " 0.94294725 0.94352064 0.94151376 0.94051032 0.94237385 0.9430906\n",
      " 0.94481078 0.94681766 0.94567087 0.9483945  0.9478211  0.96000573\n",
      " 0.95971904 0.96029243 0.96301606 0.95957569 0.95971904 0.95971904\n",
      " 0.95567125 0.95703262 0.95808518 0.95886451 0.95942819 0.95983648\n",
      " 0.96014017 0.96037877 0.96057999 0.96076304 0.96093786 0.96111095\n",
      " 0.96128404 0.96145928 0.96163589 0.96181256]\n",
      "16 day output [[0.96199054]]\n",
      "17 day input [0.94122706 0.93950688 0.94638761 0.94796445 0.94180046 0.94137041\n",
      " 0.93893349 0.93922018 0.93735665 0.93649656 0.93706995 0.93807339\n",
      " 0.93549312 0.93434633 0.93649656 0.9375     0.93893349 0.93836009\n",
      " 0.93979358 0.94982798 0.94538417 0.94796445 0.94868119 0.9475344\n",
      " 0.95040138 0.96272936 0.96588303 0.96803326 0.97247706 0.97591743\n",
      " 0.97305046 0.96932339 0.96459289 0.97018349 0.97749427 0.97806766\n",
      " 0.97362385 0.97161697 0.9684633  0.96602638 0.96473624 0.9587156\n",
      " 0.95771216 0.95513188 0.95484518 0.95498853 0.95255161 0.94724771\n",
      " 0.94925459 0.94896789 0.95097477 0.95025803 0.94667431 0.94767775\n",
      " 0.94395069 0.94624427 0.94380734 0.94079702 0.94137041 0.94022362\n",
      " 0.93922018 0.9375     0.93506307 0.93800172 0.94094037 0.94294725\n",
      " 0.94352064 0.94151376 0.94051032 0.94237385 0.9430906  0.94481078\n",
      " 0.94681766 0.94567087 0.9483945  0.9478211  0.96000573 0.95971904\n",
      " 0.96029243 0.96301606 0.95957569 0.95971904 0.95971904 0.95567125\n",
      " 0.95703262 0.95808518 0.95886451 0.95942819 0.95983648 0.96014017\n",
      " 0.96037877 0.96057999 0.96076304 0.96093786 0.96111095 0.96128404\n",
      " 0.96145928 0.96163589 0.96181256 0.96199054]\n"
     ]
    },
    {
     "name": "stdout",
     "output_type": "stream",
     "text": [
      "17 day output [[0.96216774]]\n",
      "18 day input [0.93950688 0.94638761 0.94796445 0.94180046 0.94137041 0.93893349\n",
      " 0.93922018 0.93735665 0.93649656 0.93706995 0.93807339 0.93549312\n",
      " 0.93434633 0.93649656 0.9375     0.93893349 0.93836009 0.93979358\n",
      " 0.94982798 0.94538417 0.94796445 0.94868119 0.9475344  0.95040138\n",
      " 0.96272936 0.96588303 0.96803326 0.97247706 0.97591743 0.97305046\n",
      " 0.96932339 0.96459289 0.97018349 0.97749427 0.97806766 0.97362385\n",
      " 0.97161697 0.9684633  0.96602638 0.96473624 0.9587156  0.95771216\n",
      " 0.95513188 0.95484518 0.95498853 0.95255161 0.94724771 0.94925459\n",
      " 0.94896789 0.95097477 0.95025803 0.94667431 0.94767775 0.94395069\n",
      " 0.94624427 0.94380734 0.94079702 0.94137041 0.94022362 0.93922018\n",
      " 0.9375     0.93506307 0.93800172 0.94094037 0.94294725 0.94352064\n",
      " 0.94151376 0.94051032 0.94237385 0.9430906  0.94481078 0.94681766\n",
      " 0.94567087 0.9483945  0.9478211  0.96000573 0.95971904 0.96029243\n",
      " 0.96301606 0.95957569 0.95971904 0.95971904 0.95567125 0.95703262\n",
      " 0.95808518 0.95886451 0.95942819 0.95983648 0.96014017 0.96037877\n",
      " 0.96057999 0.96076304 0.96093786 0.96111095 0.96128404 0.96145928\n",
      " 0.96163589 0.96181256 0.96199054 0.96216774]\n",
      "18 day output [[0.96234494]]\n",
      "19 day input [0.94638761 0.94796445 0.94180046 0.94137041 0.93893349 0.93922018\n",
      " 0.93735665 0.93649656 0.93706995 0.93807339 0.93549312 0.93434633\n",
      " 0.93649656 0.9375     0.93893349 0.93836009 0.93979358 0.94982798\n",
      " 0.94538417 0.94796445 0.94868119 0.9475344  0.95040138 0.96272936\n",
      " 0.96588303 0.96803326 0.97247706 0.97591743 0.97305046 0.96932339\n",
      " 0.96459289 0.97018349 0.97749427 0.97806766 0.97362385 0.97161697\n",
      " 0.9684633  0.96602638 0.96473624 0.9587156  0.95771216 0.95513188\n",
      " 0.95484518 0.95498853 0.95255161 0.94724771 0.94925459 0.94896789\n",
      " 0.95097477 0.95025803 0.94667431 0.94767775 0.94395069 0.94624427\n",
      " 0.94380734 0.94079702 0.94137041 0.94022362 0.93922018 0.9375\n",
      " 0.93506307 0.93800172 0.94094037 0.94294725 0.94352064 0.94151376\n",
      " 0.94051032 0.94237385 0.9430906  0.94481078 0.94681766 0.94567087\n",
      " 0.9483945  0.9478211  0.96000573 0.95971904 0.96029243 0.96301606\n",
      " 0.95957569 0.95971904 0.95971904 0.95567125 0.95703262 0.95808518\n",
      " 0.95886451 0.95942819 0.95983648 0.96014017 0.96037877 0.96057999\n",
      " 0.96076304 0.96093786 0.96111095 0.96128404 0.96145928 0.96163589\n",
      " 0.96181256 0.96199054 0.96216774 0.96234494]\n",
      "19 day output [[0.9625209]]\n",
      "20 day input [0.94796445 0.94180046 0.94137041 0.93893349 0.93922018 0.93735665\n",
      " 0.93649656 0.93706995 0.93807339 0.93549312 0.93434633 0.93649656\n",
      " 0.9375     0.93893349 0.93836009 0.93979358 0.94982798 0.94538417\n",
      " 0.94796445 0.94868119 0.9475344  0.95040138 0.96272936 0.96588303\n",
      " 0.96803326 0.97247706 0.97591743 0.97305046 0.96932339 0.96459289\n",
      " 0.97018349 0.97749427 0.97806766 0.97362385 0.97161697 0.9684633\n",
      " 0.96602638 0.96473624 0.9587156  0.95771216 0.95513188 0.95484518\n",
      " 0.95498853 0.95255161 0.94724771 0.94925459 0.94896789 0.95097477\n",
      " 0.95025803 0.94667431 0.94767775 0.94395069 0.94624427 0.94380734\n",
      " 0.94079702 0.94137041 0.94022362 0.93922018 0.9375     0.93506307\n",
      " 0.93800172 0.94094037 0.94294725 0.94352064 0.94151376 0.94051032\n",
      " 0.94237385 0.9430906  0.94481078 0.94681766 0.94567087 0.9483945\n",
      " 0.9478211  0.96000573 0.95971904 0.96029243 0.96301606 0.95957569\n",
      " 0.95971904 0.95971904 0.95567125 0.95703262 0.95808518 0.95886451\n",
      " 0.95942819 0.95983648 0.96014017 0.96037877 0.96057999 0.96076304\n",
      " 0.96093786 0.96111095 0.96128404 0.96145928 0.96163589 0.96181256\n",
      " 0.96199054 0.96216774 0.96234494 0.9625209 ]\n",
      "20 day output [[0.9626965]]\n",
      "21 day input [0.94180046 0.94137041 0.93893349 0.93922018 0.93735665 0.93649656\n",
      " 0.93706995 0.93807339 0.93549312 0.93434633 0.93649656 0.9375\n",
      " 0.93893349 0.93836009 0.93979358 0.94982798 0.94538417 0.94796445\n",
      " 0.94868119 0.9475344  0.95040138 0.96272936 0.96588303 0.96803326\n",
      " 0.97247706 0.97591743 0.97305046 0.96932339 0.96459289 0.97018349\n",
      " 0.97749427 0.97806766 0.97362385 0.97161697 0.9684633  0.96602638\n",
      " 0.96473624 0.9587156  0.95771216 0.95513188 0.95484518 0.95498853\n",
      " 0.95255161 0.94724771 0.94925459 0.94896789 0.95097477 0.95025803\n",
      " 0.94667431 0.94767775 0.94395069 0.94624427 0.94380734 0.94079702\n",
      " 0.94137041 0.94022362 0.93922018 0.9375     0.93506307 0.93800172\n",
      " 0.94094037 0.94294725 0.94352064 0.94151376 0.94051032 0.94237385\n",
      " 0.9430906  0.94481078 0.94681766 0.94567087 0.9483945  0.9478211\n",
      " 0.96000573 0.95971904 0.96029243 0.96301606 0.95957569 0.95971904\n",
      " 0.95971904 0.95567125 0.95703262 0.95808518 0.95886451 0.95942819\n",
      " 0.95983648 0.96014017 0.96037877 0.96057999 0.96076304 0.96093786\n",
      " 0.96111095 0.96128404 0.96145928 0.96163589 0.96181256 0.96199054\n",
      " 0.96216774 0.96234494 0.9625209  0.96269649]\n",
      "21 day output [[0.9628711]]\n",
      "22 day input [0.94137041 0.93893349 0.93922018 0.93735665 0.93649656 0.93706995\n",
      " 0.93807339 0.93549312 0.93434633 0.93649656 0.9375     0.93893349\n",
      " 0.93836009 0.93979358 0.94982798 0.94538417 0.94796445 0.94868119\n",
      " 0.9475344  0.95040138 0.96272936 0.96588303 0.96803326 0.97247706\n",
      " 0.97591743 0.97305046 0.96932339 0.96459289 0.97018349 0.97749427\n",
      " 0.97806766 0.97362385 0.97161697 0.9684633  0.96602638 0.96473624\n",
      " 0.9587156  0.95771216 0.95513188 0.95484518 0.95498853 0.95255161\n",
      " 0.94724771 0.94925459 0.94896789 0.95097477 0.95025803 0.94667431\n",
      " 0.94767775 0.94395069 0.94624427 0.94380734 0.94079702 0.94137041\n",
      " 0.94022362 0.93922018 0.9375     0.93506307 0.93800172 0.94094037\n",
      " 0.94294725 0.94352064 0.94151376 0.94051032 0.94237385 0.9430906\n",
      " 0.94481078 0.94681766 0.94567087 0.9483945  0.9478211  0.96000573\n",
      " 0.95971904 0.96029243 0.96301606 0.95957569 0.95971904 0.95971904\n",
      " 0.95567125 0.95703262 0.95808518 0.95886451 0.95942819 0.95983648\n",
      " 0.96014017 0.96037877 0.96057999 0.96076304 0.96093786 0.96111095\n",
      " 0.96128404 0.96145928 0.96163589 0.96181256 0.96199054 0.96216774\n",
      " 0.96234494 0.9625209  0.96269649 0.96287107]\n",
      "22 day output [[0.96304584]]\n",
      "23 day input [0.93893349 0.93922018 0.93735665 0.93649656 0.93706995 0.93807339\n",
      " 0.93549312 0.93434633 0.93649656 0.9375     0.93893349 0.93836009\n",
      " 0.93979358 0.94982798 0.94538417 0.94796445 0.94868119 0.9475344\n",
      " 0.95040138 0.96272936 0.96588303 0.96803326 0.97247706 0.97591743\n",
      " 0.97305046 0.96932339 0.96459289 0.97018349 0.97749427 0.97806766\n",
      " 0.97362385 0.97161697 0.9684633  0.96602638 0.96473624 0.9587156\n",
      " 0.95771216 0.95513188 0.95484518 0.95498853 0.95255161 0.94724771\n",
      " 0.94925459 0.94896789 0.95097477 0.95025803 0.94667431 0.94767775\n",
      " 0.94395069 0.94624427 0.94380734 0.94079702 0.94137041 0.94022362\n",
      " 0.93922018 0.9375     0.93506307 0.93800172 0.94094037 0.94294725\n",
      " 0.94352064 0.94151376 0.94051032 0.94237385 0.9430906  0.94481078\n",
      " 0.94681766 0.94567087 0.9483945  0.9478211  0.96000573 0.95971904\n",
      " 0.96029243 0.96301606 0.95957569 0.95971904 0.95971904 0.95567125\n",
      " 0.95703262 0.95808518 0.95886451 0.95942819 0.95983648 0.96014017\n",
      " 0.96037877 0.96057999 0.96076304 0.96093786 0.96111095 0.96128404\n",
      " 0.96145928 0.96163589 0.96181256 0.96199054 0.96216774 0.96234494\n",
      " 0.9625209  0.96269649 0.96287107 0.96304584]\n",
      "23 day output [[0.9632192]]\n",
      "24 day input [0.93922018 0.93735665 0.93649656 0.93706995 0.93807339 0.93549312\n",
      " 0.93434633 0.93649656 0.9375     0.93893349 0.93836009 0.93979358\n",
      " 0.94982798 0.94538417 0.94796445 0.94868119 0.9475344  0.95040138\n",
      " 0.96272936 0.96588303 0.96803326 0.97247706 0.97591743 0.97305046\n",
      " 0.96932339 0.96459289 0.97018349 0.97749427 0.97806766 0.97362385\n",
      " 0.97161697 0.9684633  0.96602638 0.96473624 0.9587156  0.95771216\n",
      " 0.95513188 0.95484518 0.95498853 0.95255161 0.94724771 0.94925459\n",
      " 0.94896789 0.95097477 0.95025803 0.94667431 0.94767775 0.94395069\n",
      " 0.94624427 0.94380734 0.94079702 0.94137041 0.94022362 0.93922018\n",
      " 0.9375     0.93506307 0.93800172 0.94094037 0.94294725 0.94352064\n",
      " 0.94151376 0.94051032 0.94237385 0.9430906  0.94481078 0.94681766\n",
      " 0.94567087 0.9483945  0.9478211  0.96000573 0.95971904 0.96029243\n",
      " 0.96301606 0.95957569 0.95971904 0.95971904 0.95567125 0.95703262\n",
      " 0.95808518 0.95886451 0.95942819 0.95983648 0.96014017 0.96037877\n",
      " 0.96057999 0.96076304 0.96093786 0.96111095 0.96128404 0.96145928\n",
      " 0.96163589 0.96181256 0.96199054 0.96216774 0.96234494 0.9625209\n",
      " 0.96269649 0.96287107 0.96304584 0.96321923]\n",
      "24 day output [[0.96339214]]\n",
      "25 day input [0.93735665 0.93649656 0.93706995 0.93807339 0.93549312 0.93434633\n",
      " 0.93649656 0.9375     0.93893349 0.93836009 0.93979358 0.94982798\n",
      " 0.94538417 0.94796445 0.94868119 0.9475344  0.95040138 0.96272936\n",
      " 0.96588303 0.96803326 0.97247706 0.97591743 0.97305046 0.96932339\n",
      " 0.96459289 0.97018349 0.97749427 0.97806766 0.97362385 0.97161697\n",
      " 0.9684633  0.96602638 0.96473624 0.9587156  0.95771216 0.95513188\n",
      " 0.95484518 0.95498853 0.95255161 0.94724771 0.94925459 0.94896789\n",
      " 0.95097477 0.95025803 0.94667431 0.94767775 0.94395069 0.94624427\n",
      " 0.94380734 0.94079702 0.94137041 0.94022362 0.93922018 0.9375\n",
      " 0.93506307 0.93800172 0.94094037 0.94294725 0.94352064 0.94151376\n",
      " 0.94051032 0.94237385 0.9430906  0.94481078 0.94681766 0.94567087\n",
      " 0.9483945  0.9478211  0.96000573 0.95971904 0.96029243 0.96301606\n",
      " 0.95957569 0.95971904 0.95971904 0.95567125 0.95703262 0.95808518\n",
      " 0.95886451 0.95942819 0.95983648 0.96014017 0.96037877 0.96057999\n",
      " 0.96076304 0.96093786 0.96111095 0.96128404 0.96145928 0.96163589\n",
      " 0.96181256 0.96199054 0.96216774 0.96234494 0.9625209  0.96269649\n",
      " 0.96287107 0.96304584 0.96321923 0.96339214]\n",
      "25 day output [[0.9635647]]\n",
      "26 day input [0.93649656 0.93706995 0.93807339 0.93549312 0.93434633 0.93649656\n",
      " 0.9375     0.93893349 0.93836009 0.93979358 0.94982798 0.94538417\n",
      " 0.94796445 0.94868119 0.9475344  0.95040138 0.96272936 0.96588303\n",
      " 0.96803326 0.97247706 0.97591743 0.97305046 0.96932339 0.96459289\n",
      " 0.97018349 0.97749427 0.97806766 0.97362385 0.97161697 0.9684633\n",
      " 0.96602638 0.96473624 0.9587156  0.95771216 0.95513188 0.95484518\n",
      " 0.95498853 0.95255161 0.94724771 0.94925459 0.94896789 0.95097477\n",
      " 0.95025803 0.94667431 0.94767775 0.94395069 0.94624427 0.94380734\n",
      " 0.94079702 0.94137041 0.94022362 0.93922018 0.9375     0.93506307\n",
      " 0.93800172 0.94094037 0.94294725 0.94352064 0.94151376 0.94051032\n",
      " 0.94237385 0.9430906  0.94481078 0.94681766 0.94567087 0.9483945\n",
      " 0.9478211  0.96000573 0.95971904 0.96029243 0.96301606 0.95957569\n",
      " 0.95971904 0.95971904 0.95567125 0.95703262 0.95808518 0.95886451\n",
      " 0.95942819 0.95983648 0.96014017 0.96037877 0.96057999 0.96076304\n",
      " 0.96093786 0.96111095 0.96128404 0.96145928 0.96163589 0.96181256\n",
      " 0.96199054 0.96216774 0.96234494 0.9625209  0.96269649 0.96287107\n",
      " 0.96304584 0.96321923 0.96339214 0.96356469]\n"
     ]
    },
    {
     "name": "stdout",
     "output_type": "stream",
     "text": [
      "26 day output [[0.9637364]]\n",
      "27 day input [0.93706995 0.93807339 0.93549312 0.93434633 0.93649656 0.9375\n",
      " 0.93893349 0.93836009 0.93979358 0.94982798 0.94538417 0.94796445\n",
      " 0.94868119 0.9475344  0.95040138 0.96272936 0.96588303 0.96803326\n",
      " 0.97247706 0.97591743 0.97305046 0.96932339 0.96459289 0.97018349\n",
      " 0.97749427 0.97806766 0.97362385 0.97161697 0.9684633  0.96602638\n",
      " 0.96473624 0.9587156  0.95771216 0.95513188 0.95484518 0.95498853\n",
      " 0.95255161 0.94724771 0.94925459 0.94896789 0.95097477 0.95025803\n",
      " 0.94667431 0.94767775 0.94395069 0.94624427 0.94380734 0.94079702\n",
      " 0.94137041 0.94022362 0.93922018 0.9375     0.93506307 0.93800172\n",
      " 0.94094037 0.94294725 0.94352064 0.94151376 0.94051032 0.94237385\n",
      " 0.9430906  0.94481078 0.94681766 0.94567087 0.9483945  0.9478211\n",
      " 0.96000573 0.95971904 0.96029243 0.96301606 0.95957569 0.95971904\n",
      " 0.95971904 0.95567125 0.95703262 0.95808518 0.95886451 0.95942819\n",
      " 0.95983648 0.96014017 0.96037877 0.96057999 0.96076304 0.96093786\n",
      " 0.96111095 0.96128404 0.96145928 0.96163589 0.96181256 0.96199054\n",
      " 0.96216774 0.96234494 0.9625209  0.96269649 0.96287107 0.96304584\n",
      " 0.96321923 0.96339214 0.96356469 0.96373641]\n",
      "27 day output [[0.9639078]]\n",
      "28 day input [0.93807339 0.93549312 0.93434633 0.93649656 0.9375     0.93893349\n",
      " 0.93836009 0.93979358 0.94982798 0.94538417 0.94796445 0.94868119\n",
      " 0.9475344  0.95040138 0.96272936 0.96588303 0.96803326 0.97247706\n",
      " 0.97591743 0.97305046 0.96932339 0.96459289 0.97018349 0.97749427\n",
      " 0.97806766 0.97362385 0.97161697 0.9684633  0.96602638 0.96473624\n",
      " 0.9587156  0.95771216 0.95513188 0.95484518 0.95498853 0.95255161\n",
      " 0.94724771 0.94925459 0.94896789 0.95097477 0.95025803 0.94667431\n",
      " 0.94767775 0.94395069 0.94624427 0.94380734 0.94079702 0.94137041\n",
      " 0.94022362 0.93922018 0.9375     0.93506307 0.93800172 0.94094037\n",
      " 0.94294725 0.94352064 0.94151376 0.94051032 0.94237385 0.9430906\n",
      " 0.94481078 0.94681766 0.94567087 0.9483945  0.9478211  0.96000573\n",
      " 0.95971904 0.96029243 0.96301606 0.95957569 0.95971904 0.95971904\n",
      " 0.95567125 0.95703262 0.95808518 0.95886451 0.95942819 0.95983648\n",
      " 0.96014017 0.96037877 0.96057999 0.96076304 0.96093786 0.96111095\n",
      " 0.96128404 0.96145928 0.96163589 0.96181256 0.96199054 0.96216774\n",
      " 0.96234494 0.9625209  0.96269649 0.96287107 0.96304584 0.96321923\n",
      " 0.96339214 0.96356469 0.96373641 0.96390778]\n",
      "28 day output [[0.96407866]]\n",
      "29 day input [0.93549312 0.93434633 0.93649656 0.9375     0.93893349 0.93836009\n",
      " 0.93979358 0.94982798 0.94538417 0.94796445 0.94868119 0.9475344\n",
      " 0.95040138 0.96272936 0.96588303 0.96803326 0.97247706 0.97591743\n",
      " 0.97305046 0.96932339 0.96459289 0.97018349 0.97749427 0.97806766\n",
      " 0.97362385 0.97161697 0.9684633  0.96602638 0.96473624 0.9587156\n",
      " 0.95771216 0.95513188 0.95484518 0.95498853 0.95255161 0.94724771\n",
      " 0.94925459 0.94896789 0.95097477 0.95025803 0.94667431 0.94767775\n",
      " 0.94395069 0.94624427 0.94380734 0.94079702 0.94137041 0.94022362\n",
      " 0.93922018 0.9375     0.93506307 0.93800172 0.94094037 0.94294725\n",
      " 0.94352064 0.94151376 0.94051032 0.94237385 0.9430906  0.94481078\n",
      " 0.94681766 0.94567087 0.9483945  0.9478211  0.96000573 0.95971904\n",
      " 0.96029243 0.96301606 0.95957569 0.95971904 0.95971904 0.95567125\n",
      " 0.95703262 0.95808518 0.95886451 0.95942819 0.95983648 0.96014017\n",
      " 0.96037877 0.96057999 0.96076304 0.96093786 0.96111095 0.96128404\n",
      " 0.96145928 0.96163589 0.96181256 0.96199054 0.96216774 0.96234494\n",
      " 0.9625209  0.96269649 0.96287107 0.96304584 0.96321923 0.96339214\n",
      " 0.96356469 0.96373641 0.96390778 0.96407866]\n",
      "29 day output [[0.96424913]]\n",
      "[[0.9556712508201599], [0.9570326209068298], [0.9580851793289185], [0.9588645100593567], [0.9594281911849976], [0.959836483001709], [0.9601401686668396], [0.9603787660598755], [0.9605799913406372], [0.9607630372047424], [0.9609378576278687], [0.9611109495162964], [0.9612840414047241], [0.9614592790603638], [0.9616358876228333], [0.9618125557899475], [0.9619905352592468], [0.9621677398681641], [0.9623449444770813], [0.9625208973884583], [0.9626964926719666], [0.9628710746765137], [0.9630458354949951], [0.9632192254066467], [0.9633921384811401], [0.9635646939277649], [0.9637364149093628], [0.963907778263092], [0.9640786647796631], [0.9642491340637207]]\n"
     ]
    }
   ],
   "source": [
    "# Demonstrate prediction for next 30 days\n",
    "from numpy import array\n",
    "lst_output = []\n",
    "n_steps = 100\n",
    "i=0\n",
    "while(i<30):\n",
    "    if(len(temp_input)>100):\n",
    "        x_input = np.array(temp_input[1:])\n",
    "        print(\"{} day input {}\".format(i,x_input))\n",
    "        x_input = x_input.reshape(1,-1)\n",
    "        x_input = x_input.reshape((1, n_steps, 1))\n",
    "        yhat = model.predict(x_input,verbose=0)\n",
    "        print(\"{} day output {}\".format(i,yhat))\n",
    "        temp_input.extend(yhat[0].tolist())\n",
    "        temp_input = temp_input[1:]\n",
    "        lst_output.extend(yhat.tolist())\n",
    "        i=i+1\n",
    "    else:\n",
    "        x_input = x_input.reshape((1, n_steps,1))\n",
    "        yhat = model.predict(x_input, verbose=0)\n",
    "        print(yhat[0])\n",
    "        temp_input.extend(yhat[0].tolist())\n",
    "        print(len(temp_input))\n",
    "        lst_output.extend(yhat.tolist())\n",
    "        i=i+1\n",
    "print(lst_output)"
   ]
  },
  {
   "cell_type": "code",
   "execution_count": 32,
   "metadata": {
    "id": "028syBEEi9-0"
   },
   "outputs": [],
   "source": [
    "day_new = np.arange(1,101)\n",
    "day_pred = np.arange(101,131)"
   ]
  },
  {
   "cell_type": "code",
   "execution_count": 33,
   "metadata": {
    "id": "-aKvK1rEi9-0"
   },
   "outputs": [],
   "source": [
    "import matplotlib.pyplot as plt"
   ]
  },
  {
   "cell_type": "code",
   "execution_count": 34,
   "metadata": {
    "colab": {
     "base_uri": "https://localhost:8080/",
     "height": 0
    },
    "id": "84KkOtZDi9-0",
    "outputId": "729a0695-ace4-4f8f-9e4b-d9cc765d8c86"
   },
   "outputs": [
    {
     "data": {
      "text/plain": [
       "12649"
      ]
     },
     "execution_count": 34,
     "metadata": {},
     "output_type": "execute_result"
    }
   ],
   "source": [
    "len(rate)"
   ]
  },
  {
   "cell_type": "code",
   "execution_count": 35,
   "metadata": {
    "id": "0GX_Qsxxi9-0"
   },
   "outputs": [],
   "source": [
    "rate1 = rate.tolist()\n",
    "rate1.extend(lst_output)"
   ]
  },
  {
   "cell_type": "code",
   "execution_count": 36,
   "metadata": {
    "colab": {
     "base_uri": "https://localhost:8080/",
     "height": 0
    },
    "id": "4ryQDKQNAdaB",
    "outputId": "e661d62b-bd46-4214-9285-d343a9c77cd1"
   },
   "outputs": [
    {
     "data": {
      "text/plain": [
       "[[0.011897935779816501],\n",
       " [0.011897935779816501],\n",
       " [0.011611238532110088],\n",
       " [0.011754587155963295],\n",
       " [0.011611238532110088],\n",
       " [0.011611238532110088],\n",
       " [0.011611238532110088],\n",
       " [0.011611238532110088],\n",
       " [0.011611238532110088],\n",
       " [0.011611238532110088]]"
      ]
     },
     "execution_count": 36,
     "metadata": {},
     "output_type": "execute_result"
    }
   ],
   "source": [
    "rate1[:10]"
   ]
  },
  {
   "cell_type": "code",
   "execution_count": 37,
   "metadata": {
    "colab": {
     "base_uri": "https://localhost:8080/",
     "height": 282
    },
    "id": "utmNBf_7i9-0",
    "outputId": "ab6c1367-e5bb-4542-cd95-7873746dbcd0"
   },
   "outputs": [
    {
     "data": {
      "text/plain": [
       "[<matplotlib.lines.Line2D at 0x29e02978460>]"
      ]
     },
     "execution_count": 37,
     "metadata": {},
     "output_type": "execute_result"
    },
    {
     "data": {
      "image/png": "[encoded data removed]",
      "text/plain": [
       "<Figure size 432x288 with 1 Axes>"
      ]
     },
     "metadata": {
      "needs_background": "light"
     },
     "output_type": "display_data"
    }
   ],
   "source": [
    "plt.plot(day_new,scaler.inverse_transform(rate[12549:]))\n",
    "plt.plot(day_pred,scaler.inverse_transform(lst_output))"
   ]
  },
  {
   "cell_type": "code",
   "execution_count": 38,
   "metadata": {
    "colab": {
     "base_uri": "https://localhost:8080/",
     "height": 320
    },
    "id": "DTFTZI_ri9-1",
    "outputId": "e551c6c0-3027-402d-b5a5-6a23ba939199"
   },
   "outputs": [
    {
     "data": {
      "image/png": "[encoded data removed]",
      "text/plain": [
       "<Figure size 864x360 with 1 Axes>"
      ]
     },
     "metadata": {
      "needs_background": "light"
     },
     "output_type": "display_data"
    }
   ],
   "source": [
    "plt.figure(figsize=(12,5))\n",
    "rate1 = rate.tolist()\n",
    "rate1.extend(lst_output)\n",
    "plt.plot(rate1[100:])\n",
    "plt.show()"
   ]
  }
 ],
 "metadata": {
  "colab": {
   "name": "LSTM model-irfan.ipynb",
   "provenance": []
  },
  "hide_input": false,
  "kernelspec": {
   "display_name": "Python 3",
   "language": "python",
   "name": "python3"
  },
  "language_info": {
   "codemirror_mode": {
    "name": "ipython",
    "version": 3
   },
   "file_extension": ".py",
   "mimetype": "text/x-python",
   "name": "python",
   "nbconvert_exporter": "python",
   "pygments_lexer": "ipython3",
   "version": "3.8.5"
  },
  "toc": {
   "base_numbering": 1,
   "nav_menu": {},
   "number_sections": true,
   "sideBar": true,
   "skip_h1_title": false,
   "title_cell": "Table of Contents",
   "title_sidebar": "Contents",
   "toc_cell": false,
   "toc_position": {},
   "toc_section_display": true,
   "toc_window_display": false
  },
  "varInspector": {
   "cols": {
    "lenName": 16,
    "lenType": 16,
    "lenVar": 40
   },
   "kernels_config": {
    "python": {
     "delete_cmd_postfix": "",
     "delete_cmd_prefix": "del ",
     "library": "var_list.py",
     "varRefreshCmd": "print(var_dic_list())"
    },
    "r": {
     "delete_cmd_postfix": ") ",
     "delete_cmd_prefix": "rm(",
     "library": "var_list.r",
     "varRefreshCmd": "cat(var_dic_list()) "
    }
   },
   "types_to_exclude": [
    "module",
    "function",
    "builtin_function_or_method",
    "instance",
    "_Feature"
   ],
   "window_display": false
  }
 },
 "nbformat": 4,
 "nbformat_minor": 1
}
